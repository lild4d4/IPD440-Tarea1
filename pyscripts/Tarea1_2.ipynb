{
 "cells": [
  {
   "cell_type": "code",
   "execution_count": 9,
   "id": "initial_id",
   "metadata": {
    "collapsed": true,
    "ExecuteTime": {
     "end_time": "2023-10-10T22:27:32.434807900Z",
     "start_time": "2023-10-10T22:27:32.419807900Z"
    }
   },
   "outputs": [],
   "source": [
    "import torch\n",
    "import torch.nn as nn\n",
    "import torchvision\n",
    "from torchvision import transforms"
   ]
  },
  {
   "cell_type": "code",
   "execution_count": 10,
   "outputs": [],
   "source": [
    "transform = transforms.ToTensor()"
   ],
   "metadata": {
    "collapsed": false,
    "ExecuteTime": {
     "end_time": "2023-10-10T22:27:33.735886100Z",
     "start_time": "2023-10-10T22:27:33.731407200Z"
    }
   },
   "id": "f698c830d70954d6"
  },
  {
   "cell_type": "code",
   "execution_count": 11,
   "outputs": [],
   "source": [
    "train_dataset = torchvision.datasets.MNIST(root = \"./data\", train=True, download = True, transform=transform)\n",
    "valid_dataset = torchvision.datasets.MNIST(root = \"./data\", train=False, download = True, transform=transform)"
   ],
   "metadata": {
    "collapsed": false,
    "ExecuteTime": {
     "end_time": "2023-10-10T22:27:34.511286800Z",
     "start_time": "2023-10-10T22:27:34.464063600Z"
    }
   },
   "id": "7248a64eb4c8db81"
  },
  {
   "cell_type": "code",
   "execution_count": 12,
   "outputs": [],
   "source": [
    "train_dl = torch.utils.data.DataLoader(train_dataset, batch_size=100)"
   ],
   "metadata": {
    "collapsed": false,
    "ExecuteTime": {
     "end_time": "2023-10-10T22:27:38.917892300Z",
     "start_time": "2023-10-10T22:27:38.910465600Z"
    }
   },
   "id": "4edc1fde00c263c6"
  },
  {
   "cell_type": "code",
   "execution_count": 14,
   "outputs": [],
   "source": [
    "class Encoder(nn.Module):\n",
    "    def __init__(self, input_size=28*28, hidden_size1=128, hidden_size2=16, z_dim=2):\n",
    "        super().__init__()\n",
    "        self.fc1=nn.Linear(input_size, hidden_size1)\n",
    "        self.fc2=nn.Linear(hidden_size1, hidden_size2)\n",
    "        self.fc3=nn.Linear(hidden_size2, z_dim)\n",
    "        self.relu = nn.ReLU()\n",
    "    def forward(self, x):\n",
    "        x=self.relu(self.fc1(x))\n",
    "        x=self.relu(self.fc2(x))\n",
    "        x=self.fc3(x)\n",
    "        return x"
   ],
   "metadata": {
    "collapsed": false,
    "ExecuteTime": {
     "end_time": "2023-10-10T22:31:59.901423600Z",
     "start_time": "2023-10-10T22:31:59.887055700Z"
    }
   },
   "id": "c1c097158810654e"
  },
  {
   "cell_type": "code",
   "execution_count": 15,
   "outputs": [],
   "source": [
    "class Decoder(nn.Module):\n",
    "    def __init__(self, output_size=28*28, hidden_size1=128, hidden_size2=16, z_dim=2):\n",
    "        super().__init__()\n",
    "        self.fc1=nn.Linear(z_dim, hidden_size2)\n",
    "        self.fc2=nn.Linear(hidden_size2, hidden_size1)\n",
    "        self.fc3=nn.Linear(hidden_size1, output_size)\n",
    "        self.relu = nn.ReLU()\n",
    "    def forward(self, x):\n",
    "        x=self.relu(self.fc1(x))\n",
    "        x=self.relu(self.fc2(x))\n",
    "        x=torch.sigmoid(self.fc3(x))\n",
    "        return x"
   ],
   "metadata": {
    "collapsed": false,
    "ExecuteTime": {
     "end_time": "2023-10-10T22:34:19.600935700Z",
     "start_time": "2023-10-10T22:34:19.594904800Z"
    }
   },
   "id": "50e474008844ed4d"
  },
  {
   "cell_type": "code",
   "execution_count": 16,
   "outputs": [
    {
     "data": {
      "text/plain": "device(type='cpu')"
     },
     "execution_count": 16,
     "metadata": {},
     "output_type": "execute_result"
    }
   ],
   "source": [
    "device = torch.device(\"cuda\" if torch.cuda.is_available() else \"cpu\")\n",
    "device"
   ],
   "metadata": {
    "collapsed": false,
    "ExecuteTime": {
     "end_time": "2023-10-10T22:34:58.891720Z",
     "start_time": "2023-10-10T22:34:58.873882700Z"
    }
   },
   "id": "c335c432f0f3bb1e"
  },
  {
   "cell_type": "code",
   "execution_count": 17,
   "outputs": [],
   "source": [
    "enc = Encoder().to(device)\n",
    "dec = Decoder().to(device)"
   ],
   "metadata": {
    "collapsed": false,
    "ExecuteTime": {
     "end_time": "2023-10-10T22:35:49.839605700Z",
     "start_time": "2023-10-10T22:35:49.829604300Z"
    }
   },
   "id": "17d6b9e0210f4f20"
  },
  {
   "cell_type": "code",
   "execution_count": 18,
   "outputs": [],
   "source": [
    "loss_fn = nn.MSELoss()\n",
    "optimizer_enc = torch.optim.Adam(enc.parameters())\n",
    "optimizer_dec = torch.optim.Adam(dec.parameters())"
   ],
   "metadata": {
    "collapsed": false,
    "ExecuteTime": {
     "end_time": "2023-10-10T22:36:47.725267800Z",
     "start_time": "2023-10-10T22:36:47.709364100Z"
    }
   },
   "id": "abe6d599758468af"
  },
  {
   "cell_type": "code",
   "execution_count": 20,
   "outputs": [],
   "source": [
    "train_loss = []\n",
    "num_epochs = 200\n",
    "for epoch in range(num_epochs):\n",
    "    train_epoch_loss = 0\n",
    "    for (imgs, _) in train_dl:\n",
    "        imgs = imgs.to(device)\n",
    "        imgs = imgs.flatten(1)\n",
    "        latents = enc(imgs)\n",
    "        output = dec(latents)\n",
    "        loss = loss_fn(output, imgs)\n",
    "        train_epoch_loss += loss.cpu().detach().numpy()\n",
    "        optimizer_enc.zero_grad()\n",
    "        optimizer_dec.zero_grad()\n",
    "        loss.backward()\n",
    "        optimizer_enc.step()\n",
    "        optimizer_dec.step()\n",
    "    train_loss.append(train_epoch_loss)"
   ],
   "metadata": {
    "collapsed": false,
    "ExecuteTime": {
     "end_time": "2023-10-10T23:23:23.669667300Z",
     "start_time": "2023-10-10T22:44:29.687662100Z"
    }
   },
   "id": "b26a4de8c435a2bd"
  },
  {
   "cell_type": "code",
   "execution_count": null,
   "outputs": [],
   "source": [],
   "metadata": {
    "collapsed": false
   },
   "id": "58364f7c618e499a"
  },
  {
   "cell_type": "code",
   "execution_count": null,
   "outputs": [],
   "source": [],
   "metadata": {
    "collapsed": false
   },
   "id": "ccd8728777e2b8e3"
  }
 ],
 "metadata": {
  "kernelspec": {
   "display_name": "Python 3",
   "language": "python",
   "name": "python3"
  },
  "language_info": {
   "codemirror_mode": {
    "name": "ipython",
    "version": 2
   },
   "file_extension": ".py",
   "mimetype": "text/x-python",
   "name": "python",
   "nbconvert_exporter": "python",
   "pygments_lexer": "ipython2",
   "version": "2.7.6"
  }
 },
 "nbformat": 4,
 "nbformat_minor": 5
}
